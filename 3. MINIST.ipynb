{
  "cells": [
    {
      "cell_type": "code",
      "execution_count": 1,
      "metadata": {
        "id": "sCl_OzF5h5Gb"
      },
      "outputs": [],
      "source": [
        "import numpy as np\n",
        "import matplotlib.pyplot as plt\n",
        "import tensorflow as tf\n",
        "from tensorflow.keras import models, layers \n",
        "import tensorflow_datasets as tfds\n"
      ]
    },
    {
      "cell_type": "code",
      "source": [
        "(dataset_train_original, dataset_test_original), info =tfds.load(\n",
        "    \"mnist\", \n",
        "    split=[\"train\", \"test\"],\n",
        "    as_supervised=True,\n",
        "    with_info=True\n",
        ")\n",
        "(dataset_train_original, dataset_test_original), info"
      ],
      "metadata": {
        "id": "uBycVTXPiUP8",
        "outputId": "0ea641cc-fe99-4c4e-d595-1ec66c862b45",
        "colab": {
          "base_uri": "https://localhost:8080/"
        }
      },
      "execution_count": 9,
      "outputs": [
        {
          "output_type": "execute_result",
          "data": {
            "text/plain": [
              "((<PrefetchDataset element_spec=(TensorSpec(shape=(28, 28, 1), dtype=tf.uint8, name=None), TensorSpec(shape=(), dtype=tf.int64, name=None))>,\n",
              "  <PrefetchDataset element_spec=(TensorSpec(shape=(28, 28, 1), dtype=tf.uint8, name=None), TensorSpec(shape=(), dtype=tf.int64, name=None))>),\n",
              " tfds.core.DatasetInfo(\n",
              "     name='mnist',\n",
              "     full_name='mnist/3.0.1',\n",
              "     description=\"\"\"\n",
              "     The MNIST database of handwritten digits.\n",
              "     \"\"\",\n",
              "     homepage='http://yann.lecun.com/exdb/mnist/',\n",
              "     data_path='/root/tensorflow_datasets/mnist/3.0.1',\n",
              "     file_format=tfrecord,\n",
              "     download_size=11.06 MiB,\n",
              "     dataset_size=21.00 MiB,\n",
              "     features=FeaturesDict({\n",
              "         'image': Image(shape=(28, 28, 1), dtype=uint8),\n",
              "         'label': ClassLabel(shape=(), dtype=int64, num_classes=10),\n",
              "     }),\n",
              "     supervised_keys=('image', 'label'),\n",
              "     disable_shuffling=False,\n",
              "     splits={\n",
              "         'test': <SplitInfo num_examples=10000, num_shards=1>,\n",
              "         'train': <SplitInfo num_examples=60000, num_shards=1>,\n",
              "     },\n",
              "     citation=\"\"\"@article{lecun2010mnist,\n",
              "       title={MNIST handwritten digit database},\n",
              "       author={LeCun, Yann and Cortes, Corinna and Burges, CJ},\n",
              "       journal={ATT Labs [Online]. Available: http://yann.lecun.com/exdb/mnist},\n",
              "       volume={2},\n",
              "       year={2010}\n",
              "     }\"\"\",\n",
              " ))"
            ]
          },
          "metadata": {},
          "execution_count": 9
        }
      ]
    },
    {
      "cell_type": "code",
      "source": [
        "for x, y in dataset_train_original.take(8):\n",
        "  plt.imshow(x.numpy().reshape((28,28)), cmap=\"gray\")\n",
        "  plt.title(f\"Label is {y.numpy()}.\")\n",
        "  break"
      ],
      "metadata": {
        "id": "REoW9qpmm0hr",
        "outputId": "c791ffac-c50a-4f6f-9d8f-a6b7f49f144a",
        "colab": {
          "base_uri": "https://localhost:8080/",
          "height": 281
        }
      },
      "execution_count": 18,
      "outputs": [
        {
          "output_type": "display_data",
          "data": {
            "text/plain": [
              "<Figure size 432x288 with 1 Axes>"
            ],
            "image/png": "[encoded data removed]"
          },
          "metadata": {
            "needs_background": "light"
          }
        }
      ]
    },
    {
      "cell_type": "code",
      "source": [],
      "metadata": {
        "id": "IT83XCFXnFOi"
      },
      "execution_count": null,
      "outputs": []
    }
  ],
  "metadata": {
    "kernelspec": {
      "display_name": "python-classes",
      "language": "python",
      "name": "python3"
    },
    "language_info": {
      "codemirror_mode": {
        "name": "ipython",
        "version": 3
      },
      "file_extension": ".py",
      "mimetype": "text/x-python",
      "name": "python",
      "nbconvert_exporter": "python",
      "pygments_lexer": "ipython3",
      "version": "3.11.0"
    },
    "varInspector": {
      "cols": {
        "lenName": 16,
        "lenType": 16,
        "lenVar": 40
      },
      "kernels_config": {
        "python": {
          "delete_cmd_postfix": "",
          "delete_cmd_prefix": "del ",
          "library": "var_list.py",
          "varRefreshCmd": "print(var_dic_list())"
        },
        "r": {
          "delete_cmd_postfix": ") ",
          "delete_cmd_prefix": "rm(",
          "library": "var_list.r",
          "varRefreshCmd": "cat(var_dic_list()) "
        }
      },
      "types_to_exclude": [
        "module",
        "function",
        "builtin_function_or_method",
        "instance",
        "_Feature"
      ],
      "window_display": false
    },
    "vscode": {
      "interpreter": {
        "hash": "33e49de180f7b68adbe0b8c3da4cce2849e5189a09c8fdb059671b22301aa1fe"
      }
    },
    "colab": {
      "provenance": []
    }
  },
  "nbformat": 4,
  "nbformat_minor": 0
}